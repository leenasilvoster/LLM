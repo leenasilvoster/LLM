{
  "nbformat": 4,
  "nbformat_minor": 0,
  "metadata": {
    "colab": {
      "provenance": [],
      "authorship_tag": "ABX9TyOPT30n40lPqUEWwnOrjJaM",
      "include_colab_link": true
    },
    "kernelspec": {
      "name": "python3",
      "display_name": "Python 3"
    },
    "language_info": {
      "name": "python"
    }
  },
  "cells": [
    {
      "cell_type": "markdown",
      "metadata": {
        "id": "view-in-github",
        "colab_type": "text"
      },
      "source": [
        "<a href=\"https://colab.research.google.com/github/leenasilvoster/LLM/blob/main/text_preprocessing.ipynb\" target=\"_parent\"><img src=\"https://colab.research.google.com/assets/colab-badge.svg\" alt=\"Open In Colab\"/></a>"
      ]
    },
    {
      "cell_type": "code",
      "execution_count": null,
      "metadata": {
        "colab": {
          "base_uri": "https://localhost:8080/"
        },
        "id": "b5JHZW1CvOhx",
        "outputId": "04da3d32-07c3-497c-fa73-d988177d44ae"
      },
      "outputs": [
        {
          "output_type": "stream",
          "name": "stdout",
          "text": [
            "Requirement already satisfied: nltk in /usr/local/lib/python3.10/dist-packages (3.9.1)\n",
            "Requirement already satisfied: click in /usr/local/lib/python3.10/dist-packages (from nltk) (8.1.7)\n",
            "Requirement already satisfied: joblib in /usr/local/lib/python3.10/dist-packages (from nltk) (1.4.2)\n",
            "Requirement already satisfied: regex>=2021.8.3 in /usr/local/lib/python3.10/dist-packages (from nltk) (2024.11.6)\n",
            "Requirement already satisfied: tqdm in /usr/local/lib/python3.10/dist-packages (from nltk) (4.67.1)\n"
          ]
        }
      ],
      "source": [
        "!pip install nltk"
      ]
    },
    {
      "cell_type": "code",
      "source": [
        "paragraph = \"Narendra Damodardas Modi[a] (born 17 September 1950)[b] is an Indian politician who has served as Prime Minister of India since 2014. Modi was the chief minister of Gujarat from 2001 to 2014 and is the member of parliament (MP) for Varanasi. He is a member of the Bharatiya Janata Party (BJP) and of the Rashtriya Swayamsevak Sangh (RSS), a right-wing Hindu nationalist paramilitary volunteer organisation. He is the longest-serving prime minister outside the Indian National Congress.[4]Modi was born and raised in Vadnagar in northeastern Gujarat, where he completed his secondary education. He was introduced to the RSS at the age of eight. At the age of 18, he was married to Jashodaben Modi, whom he abandoned soon after, only publicly acknowledging her four decades later when legally required to do so. Modi became a full-time worker for the RSS in Gujarat in 1971. The RSS assigned him to the BJP in 1985 and he rose through the party hierarchy, becoming general secretary in 1998.[c] In 2001, Modi was appointed Chief Minister of Gujarat and elected to the legislative assembly soon after. His administration is considered complicit in the 2002 Gujarat riots,[d] and has been criticised for its management of the crisis. According to official records, a little over 1,000 people were killed, three-quarters of whom were Muslim; independent sources estimated 2,000 deaths, mostly Muslim.[13] A Special Investigation Team appointed by the Supreme Court of India in 2012 found no evidence to initiate prosecution proceedings against him.[e] While his policies as chief minister were credited for encouraging economic growth, his administration was criticised for failing to significantly improve health, poverty and education indices in the state.[f]\""
      ],
      "metadata": {
        "id": "stWQQJu_wFD4"
      },
      "execution_count": null,
      "outputs": []
    },
    {
      "cell_type": "code",
      "source": [
        "import nltk\n",
        "from nltk.stem import PorterStemmer #Applying stemming\n",
        "from nltk.corpus import stopwords\n"
      ],
      "metadata": {
        "id": "ZyP8r2wFw3mM"
      },
      "execution_count": null,
      "outputs": []
    },
    {
      "cell_type": "code",
      "source": [
        "##tokenization-- converts pragraph--sentence--words\n",
        "nltk.download('punkt_tab')\n",
        "sentences = nltk.sent_tokenize(paragraph)\n",
        "print(sentences)"
      ],
      "metadata": {
        "colab": {
          "base_uri": "https://localhost:8080/"
        },
        "id": "EO2qPmQhxbL7",
        "outputId": "1faf1ecd-1808-41f8-d36e-51fa89ba6592"
      },
      "execution_count": null,
      "outputs": [
        {
          "output_type": "stream",
          "name": "stdout",
          "text": [
            "['Narendra Damodardas Modi[a] (born 17 September 1950)[b] is an Indian politician who has served as Prime Minister of India since 2014.', 'Modi was the chief minister of Gujarat from 2001 to 2014 and is the member of parliament (MP) for Varanasi.', 'He is a member of the Bharatiya Janata Party (BJP) and of the Rashtriya Swayamsevak Sangh (RSS), a right-wing Hindu nationalist paramilitary volunteer organisation.', 'He is the longest-serving prime minister outside the Indian National Congress.', '[4]Modi was born and raised in Vadnagar in northeastern Gujarat, where he completed his secondary education.', 'He was introduced to the RSS at the age of eight.', 'At the age of 18, he was married to Jashodaben Modi, whom he abandoned soon after, only publicly acknowledging her four decades later when legally required to do so.', 'Modi became a full-time worker for the RSS in Gujarat in 1971.', 'The RSS assigned him to the BJP in 1985 and he rose through the party hierarchy, becoming general secretary in 1998.', '[c] In 2001, Modi was appointed Chief Minister of Gujarat and elected to the legislative assembly soon after.', 'His administration is considered complicit in the 2002 Gujarat riots,[d] and has been criticised for its management of the crisis.', 'According to official records, a little over 1,000 people were killed, three-quarters of whom were Muslim; independent sources estimated 2,000 deaths, mostly Muslim.', '[13] A Special Investigation Team appointed by the Supreme Court of India in 2012 found no evidence to initiate prosecution proceedings against him.', '[e] While his policies as chief minister were credited for encouraging economic growth, his administration was criticised for failing to significantly improve health, poverty and education indices in the state.', '[f]']\n"
          ]
        },
        {
          "output_type": "stream",
          "name": "stderr",
          "text": [
            "[nltk_data] Downloading package punkt_tab to /root/nltk_data...\n",
            "[nltk_data]   Package punkt_tab is already up-to-date!\n"
          ]
        }
      ]
    },
    {
      "cell_type": "code",
      "source": [
        "type(sentences)"
      ],
      "metadata": {
        "colab": {
          "base_uri": "https://localhost:8080/"
        },
        "id": "CWP8w1T_zzqV",
        "outputId": "0a1d3050-8afc-4186-fea2-c3b986e47e9a"
      },
      "execution_count": null,
      "outputs": [
        {
          "output_type": "execute_result",
          "data": {
            "text/plain": [
              "list"
            ]
          },
          "metadata": {},
          "execution_count": 15
        }
      ]
    },
    {
      "cell_type": "code",
      "source": [
        "stemmer=PorterStemmer()"
      ],
      "metadata": {
        "id": "h6N1AkDTznwC"
      },
      "execution_count": null,
      "outputs": []
    },
    {
      "cell_type": "code",
      "source": [
        "#stemmer.stem('history')"
      ],
      "metadata": {
        "colab": {
          "base_uri": "https://localhost:8080/",
          "height": 35
        },
        "id": "VF5yzsGz2e1N",
        "outputId": "818f9cb8-bc98-4716-dd51-bc961644fa72"
      },
      "execution_count": null,
      "outputs": [
        {
          "output_type": "execute_result",
          "data": {
            "text/plain": [
              "'histori'"
            ],
            "application/vnd.google.colaboratory.intrinsic+json": {
              "type": "string"
            }
          },
          "metadata": {},
          "execution_count": 19
        }
      ]
    },
    {
      "cell_type": "code",
      "source": [
        "from nltk.stem import WordNetLemmatizer\n",
        "nltk.download('wordnet')"
      ],
      "metadata": {
        "colab": {
          "base_uri": "https://localhost:8080/"
        },
        "id": "iBXPyp1t29EM",
        "outputId": "a219c690-f013-4a1e-ff10-4b5965fbfc01"
      },
      "execution_count": null,
      "outputs": [
        {
          "output_type": "stream",
          "name": "stderr",
          "text": [
            "[nltk_data] Downloading package wordnet to /root/nltk_data...\n",
            "[nltk_data]   Package wordnet is already up-to-date!\n"
          ]
        },
        {
          "output_type": "execute_result",
          "data": {
            "text/plain": [
              "True"
            ]
          },
          "metadata": {},
          "execution_count": 5
        }
      ]
    },
    {
      "cell_type": "code",
      "source": [
        "lemmatizer = WordNetLemmatizer()\n"
      ],
      "metadata": {
        "id": "Bznolux_3EQP"
      },
      "execution_count": null,
      "outputs": []
    },
    {
      "cell_type": "code",
      "source": [
        "lemmatizer.lemmatize('goes')"
      ],
      "metadata": {
        "colab": {
          "base_uri": "https://localhost:8080/",
          "height": 35
        },
        "id": "SmOdLFnS3Moh",
        "outputId": "6f0459bb-5bc2-4616-a9da-dbae269d2649"
      },
      "execution_count": null,
      "outputs": [
        {
          "output_type": "execute_result",
          "data": {
            "text/plain": [
              "'go'"
            ],
            "application/vnd.google.colaboratory.intrinsic+json": {
              "type": "string"
            }
          },
          "metadata": {},
          "execution_count": 27
        }
      ]
    },
    {
      "cell_type": "code",
      "source": [
        "import re\n",
        "corpus = []\n",
        "for i in range(len(sentences)):\n",
        "  review = re.sub('[^a-zA-Z]',' ',sentences[i])\n",
        "  review = review.lower()\n",
        "  corpus.append(review)"
      ],
      "metadata": {
        "id": "N-yhmIau3vQy"
      },
      "execution_count": null,
      "outputs": []
    },
    {
      "cell_type": "code",
      "source": [
        "corpus"
      ],
      "metadata": {
        "colab": {
          "base_uri": "https://localhost:8080/"
        },
        "id": "XVNtboUL46f3",
        "outputId": "bb72c4e1-5a48-49ef-d8a8-2b21fc786e6b"
      },
      "execution_count": null,
      "outputs": [
        {
          "output_type": "execute_result",
          "data": {
            "text/plain": [
              "['narendradamodardasmodiabornseptemberbisanindianpoliticianwhohasservedasprimeministerofindiasince',\n",
              " 'modiwasthechiefministerofgujaratfromtoandisthememberofparliamentmpforvaranasi',\n",
              " 'heisamemberofthebharatiyajanatapartybjpandoftherashtriyaswayamsevaksanghrssarightwinghindunationalistparamilitaryvolunteerorganisation',\n",
              " 'heisthelongestservingprimeministeroutsidetheindiannationalcongress',\n",
              " 'modiwasbornandraisedinvadnagarinnortheasterngujaratwherehecompletedhissecondaryeducation',\n",
              " 'hewasintroducedtotherssattheageofeight',\n",
              " 'attheageofhewasmarriedtojashodabenmodiwhomheabandonedsoonafteronlypubliclyacknowledgingherfourdecadeslaterwhenlegallyrequiredtodoso',\n",
              " 'modibecameafulltimeworkerfortherssingujaratin',\n",
              " 'therssassignedhimtothebjpinandherosethroughthepartyhierarchybecominggeneralsecretaryin',\n",
              " 'cinmodiwasappointedchiefministerofgujaratandelectedtothelegislativeassemblysoonafter',\n",
              " 'hisadministrationisconsideredcomplicitinthegujaratriotsdandhasbeencriticisedforitsmanagementofthecrisis',\n",
              " 'accordingtoofficialrecordsalittleoverpeoplewerekilledthreequartersofwhomweremuslimindependentsourcesestimateddeathsmostlymuslim',\n",
              " 'aspecialinvestigationteamappointedbythesupremecourtofindiainfoundnoevidencetoinitiateprosecutionproceedingsagainsthim',\n",
              " 'ewhilehispoliciesaschiefministerwerecreditedforencouragingeconomicgrowthhisadministrationwascriticisedforfailingtosignificantlyimprovehealthpovertyandeducationindicesinthestate',\n",
              " 'f']"
            ]
          },
          "metadata": {},
          "execution_count": 8
        }
      ]
    },
    {
      "cell_type": "code",
      "source": [
        "##stemming\n",
        "for i in corpus:\n",
        "  #print(i)\n",
        "  for word in i:\n",
        "    stemmer.stem"
      ],
      "metadata": {
        "id": "XqSC1s8A4_MV"
      },
      "execution_count": null,
      "outputs": []
    },
    {
      "cell_type": "code",
      "source": [
        "nltk.download('stopwords')\n",
        "stop_words = set(stopwords.words('english'))  # Define stop_words here"
      ],
      "metadata": {
        "colab": {
          "base_uri": "https://localhost:8080/"
        },
        "id": "uT67A9EF6pJ-",
        "outputId": "fdc58802-fc7d-46ee-f0f8-13461921bfab"
      },
      "execution_count": null,
      "outputs": [
        {
          "output_type": "stream",
          "name": "stderr",
          "text": [
            "[nltk_data] Downloading package stopwords to /root/nltk_data...\n",
            "[nltk_data]   Package stopwords is already up-to-date!\n"
          ]
        }
      ]
    },
    {
      "cell_type": "code",
      "source": [
        " #Process each sentence\n",
        "for i in sentences:\n",
        "    words =  nltk.word_tokenize(i)  # Tokenize the sentence into words\n",
        "    for word in words:\n",
        "        # Check if the word is not a stopword\n",
        "        if word.lower() not in stop_words:  # Use `.lower()` to handle case sensitivity\n",
        "            print(stemmer.stem(word))  # Print the stemmed word"
      ],
      "metadata": {
        "colab": {
          "base_uri": "https://localhost:8080/"
        },
        "id": "hBEFRILV5n5d",
        "outputId": "8f93a685-7b9e-4060-dc86-d8d9613e7627"
      },
      "execution_count": null,
      "outputs": [
        {
          "output_type": "stream",
          "name": "stdout",
          "text": [
            "narendra\n",
            "damodarda\n",
            "modi\n",
            "[\n",
            "]\n",
            "(\n",
            "born\n",
            "17\n",
            "septemb\n",
            "1950\n",
            ")\n",
            "[\n",
            "b\n",
            "]\n",
            "indian\n",
            "politician\n",
            "serv\n",
            "prime\n",
            "minist\n",
            "india\n",
            "sinc\n",
            "2014\n",
            ".\n",
            "modi\n",
            "chief\n",
            "minist\n",
            "gujarat\n",
            "2001\n",
            "2014\n",
            "member\n",
            "parliament\n",
            "(\n",
            "mp\n",
            ")\n",
            "varanasi\n",
            ".\n",
            "member\n",
            "bharatiya\n",
            "janata\n",
            "parti\n",
            "(\n",
            "bjp\n",
            ")\n",
            "rashtriya\n",
            "swayamsevak\n",
            "sangh\n",
            "(\n",
            "rss\n",
            ")\n",
            ",\n",
            "right-w\n",
            "hindu\n",
            "nationalist\n",
            "paramilitari\n",
            "volunt\n",
            "organis\n",
            ".\n",
            "longest-serv\n",
            "prime\n",
            "minist\n",
            "outsid\n",
            "indian\n",
            "nation\n",
            "congress\n",
            ".\n",
            "[\n",
            "4\n",
            "]\n",
            "modi\n",
            "born\n",
            "rais\n",
            "vadnagar\n",
            "northeastern\n",
            "gujarat\n",
            ",\n",
            "complet\n",
            "secondari\n",
            "educ\n",
            ".\n",
            "introduc\n",
            "rss\n",
            "age\n",
            "eight\n",
            ".\n",
            "age\n",
            "18\n",
            ",\n",
            "marri\n",
            "jashodaben\n",
            "modi\n",
            ",\n",
            "abandon\n",
            "soon\n",
            ",\n",
            "publicli\n",
            "acknowledg\n",
            "four\n",
            "decad\n",
            "later\n",
            "legal\n",
            "requir\n",
            ".\n",
            "modi\n",
            "becam\n",
            "full-tim\n",
            "worker\n",
            "rss\n",
            "gujarat\n",
            "1971\n",
            ".\n",
            "rss\n",
            "assign\n",
            "bjp\n",
            "1985\n",
            "rose\n",
            "parti\n",
            "hierarchi\n",
            ",\n",
            "becom\n",
            "gener\n",
            "secretari\n",
            "1998\n",
            ".\n",
            "[\n",
            "c\n",
            "]\n",
            "2001\n",
            ",\n",
            "modi\n",
            "appoint\n",
            "chief\n",
            "minist\n",
            "gujarat\n",
            "elect\n",
            "legisl\n",
            "assembl\n",
            "soon\n",
            ".\n",
            "administr\n",
            "consid\n",
            "complicit\n",
            "2002\n",
            "gujarat\n",
            "riot\n",
            ",\n",
            "[\n",
            "]\n",
            "criticis\n",
            "manag\n",
            "crisi\n",
            ".\n",
            "accord\n",
            "offici\n",
            "record\n",
            ",\n",
            "littl\n",
            "1,000\n",
            "peopl\n",
            "kill\n",
            ",\n",
            "three-quart\n",
            "muslim\n",
            ";\n",
            "independ\n",
            "sourc\n",
            "estim\n",
            "2,000\n",
            "death\n",
            ",\n",
            "mostli\n",
            "muslim\n",
            ".\n",
            "[\n",
            "13\n",
            "]\n",
            "special\n",
            "investig\n",
            "team\n",
            "appoint\n",
            "suprem\n",
            "court\n",
            "india\n",
            "2012\n",
            "found\n",
            "evid\n",
            "initi\n",
            "prosecut\n",
            "proceed\n",
            ".\n",
            "[\n",
            "e\n",
            "]\n",
            "polici\n",
            "chief\n",
            "minist\n",
            "credit\n",
            "encourag\n",
            "econom\n",
            "growth\n",
            ",\n",
            "administr\n",
            "criticis\n",
            "fail\n",
            "significantli\n",
            "improv\n",
            "health\n",
            ",\n",
            "poverti\n",
            "educ\n",
            "indic\n",
            "state\n",
            ".\n",
            "[\n",
            "f\n",
            "]\n"
          ]
        }
      ]
    },
    {
      "cell_type": "code",
      "source": [
        " #Process each sentence\n",
        "for sentence in sentences:\n",
        "    words =  nltk.word_tokenize(sentence)  # Tokenize the sentence into words\n",
        "    for word in words:\n",
        "        # Check if the word is not a stopword\n",
        "        if word.lower() not in stop_words:  # Use .lower() to handle case sensitivity\n",
        "                 print(lemmatizer.lemmatize(word))"
      ],
      "metadata": {
        "colab": {
          "base_uri": "https://localhost:8080/"
        },
        "collapsed": true,
        "id": "GMP_gdit8XEf",
        "outputId": "102e5b0e-ca72-433c-e24a-6c5a1f228c66"
      },
      "execution_count": null,
      "outputs": [
        {
          "output_type": "stream",
          "name": "stdout",
          "text": [
            "Narendra\n",
            "Damodardas\n",
            "Modi\n",
            "[\n",
            "]\n",
            "(\n",
            "born\n",
            "17\n",
            "September\n",
            "1950\n",
            ")\n",
            "[\n",
            "b\n",
            "]\n",
            "Indian\n",
            "politician\n",
            "served\n",
            "Prime\n",
            "Minister\n",
            "India\n",
            "since\n",
            "2014\n",
            ".\n",
            "Modi\n",
            "chief\n",
            "minister\n",
            "Gujarat\n",
            "2001\n",
            "2014\n",
            "member\n",
            "parliament\n",
            "(\n",
            "MP\n",
            ")\n",
            "Varanasi\n",
            ".\n",
            "member\n",
            "Bharatiya\n",
            "Janata\n",
            "Party\n",
            "(\n",
            "BJP\n",
            ")\n",
            "Rashtriya\n",
            "Swayamsevak\n",
            "Sangh\n",
            "(\n",
            "RSS\n",
            ")\n",
            ",\n",
            "right-wing\n",
            "Hindu\n",
            "nationalist\n",
            "paramilitary\n",
            "volunteer\n",
            "organisation\n",
            ".\n",
            "longest-serving\n",
            "prime\n",
            "minister\n",
            "outside\n",
            "Indian\n",
            "National\n",
            "Congress\n",
            ".\n",
            "[\n",
            "4\n",
            "]\n",
            "Modi\n",
            "born\n",
            "raised\n",
            "Vadnagar\n",
            "northeastern\n",
            "Gujarat\n",
            ",\n",
            "completed\n",
            "secondary\n",
            "education\n",
            ".\n",
            "introduced\n",
            "RSS\n",
            "age\n",
            "eight\n",
            ".\n",
            "age\n",
            "18\n",
            ",\n",
            "married\n",
            "Jashodaben\n",
            "Modi\n",
            ",\n",
            "abandoned\n",
            "soon\n",
            ",\n",
            "publicly\n",
            "acknowledging\n",
            "four\n",
            "decade\n",
            "later\n",
            "legally\n",
            "required\n",
            ".\n",
            "Modi\n",
            "became\n",
            "full-time\n",
            "worker\n",
            "RSS\n",
            "Gujarat\n",
            "1971\n",
            ".\n",
            "RSS\n",
            "assigned\n",
            "BJP\n",
            "1985\n",
            "rose\n",
            "party\n",
            "hierarchy\n",
            ",\n",
            "becoming\n",
            "general\n",
            "secretary\n",
            "1998\n",
            ".\n",
            "[\n",
            "c\n",
            "]\n",
            "2001\n",
            ",\n",
            "Modi\n",
            "appointed\n",
            "Chief\n",
            "Minister\n",
            "Gujarat\n",
            "elected\n",
            "legislative\n",
            "assembly\n",
            "soon\n",
            ".\n",
            "administration\n",
            "considered\n",
            "complicit\n",
            "2002\n",
            "Gujarat\n",
            "riot\n",
            ",\n",
            "[\n",
            "]\n",
            "criticised\n",
            "management\n",
            "crisis\n",
            ".\n",
            "According\n",
            "official\n",
            "record\n",
            ",\n",
            "little\n",
            "1,000\n",
            "people\n",
            "killed\n",
            ",\n",
            "three-quarters\n",
            "Muslim\n",
            ";\n",
            "independent\n",
            "source\n",
            "estimated\n",
            "2,000\n",
            "death\n",
            ",\n",
            "mostly\n",
            "Muslim\n",
            ".\n",
            "[\n",
            "13\n",
            "]\n",
            "Special\n",
            "Investigation\n",
            "Team\n",
            "appointed\n",
            "Supreme\n",
            "Court\n",
            "India\n",
            "2012\n",
            "found\n",
            "evidence\n",
            "initiate\n",
            "prosecution\n",
            "proceeding\n",
            ".\n",
            "[\n",
            "e\n",
            "]\n",
            "policy\n",
            "chief\n",
            "minister\n",
            "credited\n",
            "encouraging\n",
            "economic\n",
            "growth\n",
            ",\n",
            "administration\n",
            "criticised\n",
            "failing\n",
            "significantly\n",
            "improve\n",
            "health\n",
            ",\n",
            "poverty\n",
            "education\n",
            "index\n",
            "state\n",
            ".\n",
            "[\n",
            "f\n",
            "]\n"
          ]
        }
      ]
    },
    {
      "cell_type": "code",
      "source": [
        "#Apply Stopwords,Lemmatize\n",
        "import re\n",
        "corpus = []\n",
        "for i in range(len(sentences)):\n",
        "  review = re.sub('[^a-zA-Z]',' ',sentences[i])\n",
        "  review = review.lower()\n",
        "  review = review.split()\n",
        "  review = [lemmatizer.lemmatize(word) for word in review if word not in stop_words]\n",
        "  review = ' '.join(review)\n",
        "  corpus.append(review)\n"
      ],
      "metadata": {
        "id": "6889C2jWLK_r"
      },
      "execution_count": null,
      "outputs": []
    },
    {
      "cell_type": "markdown",
      "source": [
        "**Bag of Words**"
      ],
      "metadata": {
        "id": "P6ncB1IbSbvT"
      }
    },
    {
      "cell_type": "code",
      "source": [
        "from sklearn.feature_extraction.text import CountVectorizer\n",
        "cv = CountVectorizer(binary=True)"
      ],
      "metadata": {
        "id": "ufcyaAhL8Ztl"
      },
      "execution_count": null,
      "outputs": []
    },
    {
      "cell_type": "code",
      "source": [
        "corpus\n"
      ],
      "metadata": {
        "colab": {
          "base_uri": "https://localhost:8080/"
        },
        "id": "Vmel75dgJ5fD",
        "outputId": "5da7465c-a272-427d-d7c9-d56ab00f6087"
      },
      "execution_count": null,
      "outputs": [
        {
          "output_type": "execute_result",
          "data": {
            "text/plain": [
              "['narendra damodardas modi born september b indian politician served prime minister india since',\n",
              " 'modi chief minister gujarat member parliament mp varanasi',\n",
              " 'member bharatiya janata party bjp rashtriya swayamsevak sangh rss right wing hindu nationalist paramilitary volunteer organisation',\n",
              " 'longest serving prime minister outside indian national congress',\n",
              " 'modi born raised vadnagar northeastern gujarat completed secondary education',\n",
              " 'introduced rss age eight',\n",
              " 'age married jashodaben modi abandoned soon publicly acknowledging four decade later legally required',\n",
              " 'modi became full time worker rss gujarat',\n",
              " 'rss assigned bjp rose party hierarchy becoming general secretary',\n",
              " 'c modi appointed chief minister gujarat elected legislative assembly soon',\n",
              " 'administration considered complicit gujarat riot criticised management crisis',\n",
              " 'according official record little people killed three quarter muslim independent source estimated death mostly muslim',\n",
              " 'special investigation team appointed supreme court india found evidence initiate prosecution proceeding',\n",
              " 'e policy chief minister credited encouraging economic growth administration criticised failing significantly improve health poverty education index state',\n",
              " 'f']"
            ]
          },
          "metadata": {},
          "execution_count": 44
        }
      ]
    },
    {
      "cell_type": "code",
      "source": [
        "X = cv.fit_transform(corpus)"
      ],
      "metadata": {
        "id": "s0379SU1H8RG"
      },
      "execution_count": null,
      "outputs": []
    },
    {
      "cell_type": "code",
      "source": [
        "cv.vocabulary_"
      ],
      "metadata": {
        "colab": {
          "base_uri": "https://localhost:8080/"
        },
        "id": "-MaWXC_AIDK3",
        "outputId": "5c766218-9af3-45c7-ae26-361da533d9c2"
      },
      "execution_count": null,
      "outputs": [
        {
          "output_type": "execute_result",
          "data": {
            "text/plain": [
              "{'narendra': 66,\n",
              " 'damodardas': 22,\n",
              " 'modi': 62,\n",
              " 'born': 12,\n",
              " 'september': 96,\n",
              " 'indian': 46,\n",
              " 'politician': 78,\n",
              " 'served': 97,\n",
              " 'prime': 80,\n",
              " 'minister': 61,\n",
              " 'india': 45,\n",
              " 'since': 100,\n",
              " 'chief': 13,\n",
              " 'gujarat': 38,\n",
              " 'member': 60,\n",
              " 'parliament': 74,\n",
              " 'mp': 64,\n",
              " 'varanasi': 111,\n",
              " 'bharatiya': 10,\n",
              " 'janata': 50,\n",
              " 'party': 75,\n",
              " 'bjp': 11,\n",
              " 'rashtriya': 86,\n",
              " 'swayamsevak': 106,\n",
              " 'sangh': 93,\n",
              " 'rss': 92,\n",
              " 'right': 89,\n",
              " 'wing': 113,\n",
              " 'hindu': 41,\n",
              " 'nationalist': 68,\n",
              " 'paramilitary': 73,\n",
              " 'volunteer': 112,\n",
              " 'organisation': 71,\n",
              " 'longest': 57,\n",
              " 'serving': 98,\n",
              " 'outside': 72,\n",
              " 'national': 67,\n",
              " 'congress': 16,\n",
              " 'raised': 85,\n",
              " 'vadnagar': 110,\n",
              " 'northeastern': 69,\n",
              " 'completed': 14,\n",
              " 'secondary': 94,\n",
              " 'education': 26,\n",
              " 'introduced': 48,\n",
              " 'age': 4,\n",
              " 'eight': 27,\n",
              " 'married': 59,\n",
              " 'jashodaben': 51,\n",
              " 'abandoned': 0,\n",
              " 'soon': 101,\n",
              " 'publicly': 83,\n",
              " 'acknowledging': 2,\n",
              " 'four': 34,\n",
              " 'decade': 24,\n",
              " 'later': 53,\n",
              " 'legally': 54,\n",
              " 'required': 88,\n",
              " 'became': 8,\n",
              " 'full': 35,\n",
              " 'time': 109,\n",
              " 'worker': 114,\n",
              " 'assigned': 7,\n",
              " 'rose': 91,\n",
              " 'hierarchy': 40,\n",
              " 'becoming': 9,\n",
              " 'general': 36,\n",
              " 'secretary': 95,\n",
              " 'appointed': 5,\n",
              " 'elected': 28,\n",
              " 'legislative': 55,\n",
              " 'assembly': 6,\n",
              " 'administration': 3,\n",
              " 'considered': 17,\n",
              " 'complicit': 15,\n",
              " 'riot': 90,\n",
              " 'criticised': 21,\n",
              " 'management': 58,\n",
              " 'crisis': 20,\n",
              " 'according': 1,\n",
              " 'official': 70,\n",
              " 'record': 87,\n",
              " 'little': 56,\n",
              " 'people': 76,\n",
              " 'killed': 52,\n",
              " 'three': 108,\n",
              " 'quarter': 84,\n",
              " 'muslim': 65,\n",
              " 'independent': 43,\n",
              " 'source': 102,\n",
              " 'estimated': 30,\n",
              " 'death': 23,\n",
              " 'mostly': 63,\n",
              " 'special': 103,\n",
              " 'investigation': 49,\n",
              " 'team': 107,\n",
              " 'supreme': 105,\n",
              " 'court': 18,\n",
              " 'found': 33,\n",
              " 'evidence': 31,\n",
              " 'initiate': 47,\n",
              " 'prosecution': 82,\n",
              " 'proceeding': 81,\n",
              " 'policy': 77,\n",
              " 'credited': 19,\n",
              " 'encouraging': 29,\n",
              " 'economic': 25,\n",
              " 'growth': 37,\n",
              " 'failing': 32,\n",
              " 'significantly': 99,\n",
              " 'improve': 42,\n",
              " 'health': 39,\n",
              " 'poverty': 79,\n",
              " 'index': 44,\n",
              " 'state': 104}"
            ]
          },
          "metadata": {},
          "execution_count": 46
        }
      ]
    },
    {
      "cell_type": "code",
      "source": [
        "corpus[0] #FIRST SENTENCE"
      ],
      "metadata": {
        "colab": {
          "base_uri": "https://localhost:8080/",
          "height": 35
        },
        "id": "PsSyC0kdKLJs",
        "outputId": "635a250f-0727-4147-8e02-8fd56cb873a9"
      },
      "execution_count": null,
      "outputs": [
        {
          "output_type": "execute_result",
          "data": {
            "text/plain": [
              "'narendra damodardas modi born september b indian politician served prime minister india since'"
            ],
            "application/vnd.google.colaboratory.intrinsic+json": {
              "type": "string"
            }
          },
          "metadata": {},
          "execution_count": 47
        }
      ]
    },
    {
      "cell_type": "code",
      "source": [
        "X[0].toarray() #BAG OF WORDS OF FIRST SENTENCE"
      ],
      "metadata": {
        "colab": {
          "base_uri": "https://localhost:8080/"
        },
        "id": "_Wa8NSU-KcuQ",
        "outputId": "2e0e006d-e6ec-4bf0-8375-20b0e6db8b5c"
      },
      "execution_count": null,
      "outputs": [
        {
          "output_type": "execute_result",
          "data": {
            "text/plain": [
              "array([[0, 0, 0, 0, 0, 0, 0, 0, 0, 0, 0, 0, 1, 0, 0, 0, 0, 0, 0, 0, 0, 0,\n",
              "        1, 0, 0, 0, 0, 0, 0, 0, 0, 0, 0, 0, 0, 0, 0, 0, 0, 0, 0, 0, 0, 0,\n",
              "        0, 1, 1, 0, 0, 0, 0, 0, 0, 0, 0, 0, 0, 0, 0, 0, 0, 1, 1, 0, 0, 0,\n",
              "        1, 0, 0, 0, 0, 0, 0, 0, 0, 0, 0, 0, 1, 0, 1, 0, 0, 0, 0, 0, 0, 0,\n",
              "        0, 0, 0, 0, 0, 0, 0, 0, 1, 1, 0, 0, 1, 0, 0, 0, 0, 0, 0, 0, 0, 0,\n",
              "        0, 0, 0, 0, 0]])"
            ]
          },
          "metadata": {},
          "execution_count": 48
        }
      ]
    },
    {
      "cell_type": "code",
      "source": [
        "from sklearn.feature_extraction.text import CountVectorizer\n",
        "#cv = CountVectorizer(binary=True,ngram_range=(3,3))\n",
        "cv = CountVectorizer(binary=True,ngram_range=(2,3))\n",
        "X = cv.fit_transform(corpus)\n",
        "cv.vocabulary_\n",
        "corpus[0] #FIRST SENTENCE\n",
        "X[0].toarray() #BAG OF WORDS OF FIRST SENTENCE"
      ],
      "metadata": {
        "colab": {
          "base_uri": "https://localhost:8080/"
        },
        "id": "iTYO5zxafhyP",
        "outputId": "115ffcd2-a56b-478e-bcd0-de52f65874e5"
      },
      "execution_count": null,
      "outputs": [
        {
          "output_type": "execute_result",
          "data": {
            "text/plain": [
              "array([[0, 0, 0, 0, 0, 0, 0, 0, 0, 0, 0, 0, 0, 0, 0, 0, 0, 0, 0, 0, 0, 0,\n",
              "        0, 0, 0, 0, 0, 0, 0, 0, 0, 0, 1, 1, 0, 0, 0, 0, 0, 0, 0, 0, 0, 0,\n",
              "        0, 0, 0, 0, 0, 0, 0, 1, 1, 0, 0, 0, 0, 0, 0, 0, 0, 0, 0, 0, 0, 0,\n",
              "        0, 0, 0, 0, 0, 0, 0, 0, 0, 0, 0, 0, 0, 0, 0, 0, 0, 0, 0, 0, 0, 0,\n",
              "        0, 0, 0, 0, 0, 0, 0, 0, 0, 0, 0, 0, 0, 1, 0, 0, 1, 1, 0, 0, 0, 0,\n",
              "        0, 0, 0, 0, 0, 0, 0, 0, 0, 0, 0, 0, 0, 0, 0, 0, 0, 0, 0, 0, 0, 0,\n",
              "        0, 0, 0, 0, 0, 0, 0, 1, 1, 0, 0, 0, 0, 0, 0, 0, 0, 1, 0, 1, 0, 0,\n",
              "        0, 0, 0, 0, 1, 1, 0, 0, 0, 0, 0, 0, 0, 0, 0, 0, 0, 0, 0, 0, 0, 0,\n",
              "        0, 0, 0, 0, 0, 1, 1, 0, 0, 1, 1, 0, 0, 0, 0, 0, 0, 0, 0, 0, 0, 0,\n",
              "        0, 0, 0, 0, 0, 0, 0, 0, 0, 0, 0, 0, 0, 0, 0, 0, 0, 1, 1, 1, 1, 0,\n",
              "        0, 0, 0, 0, 0, 0, 0, 0, 0, 0, 0, 0, 0, 0, 0, 0, 0, 0, 0, 0, 0, 0,\n",
              "        0, 0, 0, 0]])"
            ]
          },
          "metadata": {},
          "execution_count": 53
        }
      ]
    },
    {
      "cell_type": "markdown",
      "source": [
        "**TFID**"
      ],
      "metadata": {
        "id": "WNqdc7najOyj"
      }
    },
    {
      "cell_type": "code",
      "source": [
        "from sklearn.feature_extraction.text import TfidfVectorizer\n",
        "#cv = TfidfVectorizer()\n",
        "#cv = TfidfVectorizer(ngram_range=(3,3))\n",
        "cv = TfidfVectorizer(ngram_range=(3,3),max_features=3)\n",
        "X = cv.fit_transform(corpus)\n",
        "cv.vocabulary_"
      ],
      "metadata": {
        "colab": {
          "base_uri": "https://localhost:8080/"
        },
        "id": "FlGqdmcRgfvX",
        "outputId": "d079d011-460d-4093-8ad3-e2d73f5cabd9"
      },
      "execution_count": null,
      "outputs": [
        {
          "output_type": "execute_result",
          "data": {
            "text/plain": [
              "{'chief minister gujarat': 1,\n",
              " 'abandoned soon publicly': 0,\n",
              " 'people killed three': 2}"
            ]
          },
          "metadata": {},
          "execution_count": 62
        }
      ]
    },
    {
      "cell_type": "code",
      "source": [
        "corpus[0] #FIRST SENTENCE\n",
        "X[0].toarray() #BAG OF WORDS OF FIRST SENTENCE"
      ],
      "metadata": {
        "colab": {
          "base_uri": "https://localhost:8080/"
        },
        "id": "BTe0KWa2hYcV",
        "outputId": "9e72805f-e3aa-44fb-a608-73bb072c7bdc"
      },
      "execution_count": null,
      "outputs": [
        {
          "output_type": "execute_result",
          "data": {
            "text/plain": [
              "array([[0., 0., 0.]])"
            ]
          },
          "metadata": {},
          "execution_count": 63
        }
      ]
    }
  ]
}